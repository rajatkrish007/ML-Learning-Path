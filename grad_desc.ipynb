{
 "cells": [
  {
   "cell_type": "markdown",
   "metadata": {},
   "source": [
    "<h3>Gradient Descent</h3>\n",
    "\n",
    "- Initialization: m_curr and b_curr (slope and intercept) are initialized to 0.\n",
    "\n",
    "- Iterations: The loop runs for 10,000 iterations.\n",
    "\n",
    "- Prediction: y_predicted is computed using the linear equation.\n",
    "\n",
    "- Cost: The cost (error) is computed using Mean Squared Error.\n",
    "\n",
    "- Gradients: The partial derivatives for m and b (gradients) are computed.\n",
    "\n",
    "- Update Rule: The slope and intercept are updated using the gradient descent formula.\n",
    "\n",
    "- Print Results: The values of m, b, cost, and the iteration number are printed at each step for tracking."
   ]
  },
  {
   "cell_type": "code",
   "execution_count": 69,
   "metadata": {},
   "outputs": [],
   "source": [
    "import numpy as np"
   ]
  },
  {
   "cell_type": "code",
   "execution_count": 70,
   "metadata": {},
   "outputs": [],
   "source": [
    "def gradient_descent(x, y):\n",
    "\n",
    "  # Initialize slope (m) and intercept (b) to 0\n",
    "    m_curr =  b_curr = 0\n",
    "\n",
    "  # Set the number of iterations for gradient descent\n",
    "    iterations = 10000\n",
    "\n",
    "  # Get the number of data points\n",
    "    n = len(x)\n",
    "\n",
    "  # Define the learning rate (step size)\n",
    "    learning_rate = 0.001\n",
    "\n",
    "    for i in range(iterations):\n",
    "\n",
    "  # Calculate the predicted y values (linear equation: y = mx + b)\n",
    "        y_predicted = m_curr * x + b_curr\n",
    "\n",
    "  # Compute the cost (Mean Squared Error)\n",
    "        cost = (1/n) * sum([val ** 2 for val in (y-y_predicted)])\n",
    "\n",
    "  # Calculate the gradient for m (slope)\n",
    "        md = -(2/n) * sum(x * (y - y_predicted))\n",
    "\n",
    "  # Calculate the gradient for b (intercept)\n",
    "        bd = -(2/n) * sum(y - y_predicted)\n",
    "\n",
    "  # Update the slope and intercept using the gradients\n",
    "        m_curr = m_curr - learning_rate * md\n",
    "        b_curr = b_curr - learning_rate * bd\n",
    "\n",
    "  # Print the current values of m, b, cost, and iteration count\n",
    "        # print(\"m: \", m_curr, \"b: \",  b_curr, \"Cost: \", cost, \"iterations: \", i)\n",
    "\n",
    "        print(\"m {}, b {}, c {}, iterations {}\".format(m_curr, b_curr, cost, iterations))"
   ]
  },
  {
   "cell_type": "code",
   "execution_count": 71,
   "metadata": {},
   "outputs": [],
   "source": [
    "# Input data points for x and y\n",
    "x = np.array([1,2,3,4,5])\n",
    "y = np.array([5,7,9,11,13])"
   ]
  }
 ],
 "metadata": {
  "kernelspec": {
   "display_name": "Python 3",
   "language": "python",
   "name": "python3"
  },
  "language_info": {
   "codemirror_mode": {
    "name": "ipython",
    "version": 3
   },
   "file_extension": ".py",
   "mimetype": "text/x-python",
   "name": "python",
   "nbconvert_exporter": "python",
   "pygments_lexer": "ipython3",
   "version": "3.12.7"
  }
 },
 "nbformat": 4,
 "nbformat_minor": 2
}
